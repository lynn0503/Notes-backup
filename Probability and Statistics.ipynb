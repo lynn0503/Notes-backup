{
 "cells": [
  {
   "cell_type": "markdown",
   "metadata": {},
   "source": [
    "taught by 范志红，南京大学"
   ]
  },
  {
   "cell_type": "code",
   "execution_count": 91,
   "metadata": {},
   "outputs": [],
   "source": [
    "import math\n",
    "import random\n",
    "from scipy.special import comb, perm"
   ]
  },
  {
   "cell_type": "code",
   "execution_count": 42,
   "metadata": {},
   "outputs": [],
   "source": [
    "# birthday problem\n",
    "def same_bday(n):\n",
    "    total_prob=0\n",
    "    for i in range(2,n+1):       \n",
    "        prob_i=365*math.factorial(i)*perm(364,40-i)/math.pow(365,40)\n",
    "        total_prob+=prob_i\n",
    "        print(\"only {} people in same day*** {:.20%}\".format(i,prob_i))\n",
    "    print(\"at least 2 people in same day--- {:.20%}\".format(total_prob))"
   ]
  },
  {
   "cell_type": "code",
   "execution_count": 43,
   "metadata": {
    "scrolled": true
   },
   "outputs": [
    {
     "name": "stdout",
     "output_type": "stream",
     "text": [
      "only 2 people *** 0.06672895103193313138%\n",
      "only 3 people *** 0.00061219221130213888%\n",
      "only 4 people *** 0.00000746575867441633%\n",
      "only 5 people *** 0.00000011346137803064%\n",
      "only 6 people *** 0.00000000206293414601%\n",
      "only 7 people *** 0.00000000004362700611%\n",
      "only 8 people *** 0.00000000000105125316%\n",
      "only 9 people *** 0.00000000000002841225%\n",
      "only 10 people *** 0.00000000000000085067%\n",
      "only 11 people *** 0.00000000000000002793%\n",
      "only 12 people *** 0.00000000000000000100%\n",
      "only 13 people *** 0.00000000000000000004%\n",
      "only 14 people *** 0.00000000000000000000%\n",
      "only 15 people *** 0.00000000000000000000%\n",
      "only 16 people *** 0.00000000000000000000%\n",
      "only 17 people *** 0.00000000000000000000%\n",
      "only 18 people *** 0.00000000000000000000%\n",
      "only 19 people *** 0.00000000000000000000%\n",
      "only 20 people *** 0.00000000000000000000%\n",
      "only 21 people *** 0.00000000000000000000%\n",
      "only 22 people *** 0.00000000000000000000%\n",
      "only 23 people *** 0.00000000000000000000%\n",
      "only 24 people *** 0.00000000000000000000%\n",
      "only 25 people *** 0.00000000000000000000%\n",
      "only 26 people *** 0.00000000000000000000%\n",
      "only 27 people *** 0.00000000000000000000%\n",
      "only 28 people *** 0.00000000000000000000%\n",
      "only 29 people *** 0.00000000000000000000%\n",
      "only 30 people *** 0.00000000000000000000%\n",
      "only 31 people *** 0.00000000000000000000%\n",
      "only 32 people *** 0.00000000000000000000%\n",
      "only 33 people *** 0.00000000000000000000%\n",
      "only 34 people *** 0.00000000000000000000%\n",
      "only 35 people *** 0.00000000000000000000%\n",
      "only 36 people *** 0.00000000000000000000%\n",
      "only 37 people *** 0.00000000000000000000%\n",
      "only 38 people *** 0.00000000000000000000%\n",
      "only 39 people *** 0.00000000000000000000%\n",
      "only 40 people *** 0.00000000000000000000%\n",
      "at least 2 people --- 0.06734872457092941356%\n"
     ]
    }
   ],
   "source": [
    "same_bday(40)"
   ]
  },
  {
   "cell_type": "code",
   "execution_count": 7,
   "metadata": {},
   "outputs": [
    {
     "name": "stdout",
     "output_type": "stream",
     "text": [
      "甲>乙 probability  0.5\n",
      "甲=乙 probability  0.16818809509277344\n"
     ]
    }
   ],
   "source": [
    "# 甲乙扔硬币，求甲的正面次数比乙多的概率\n",
    "prob=0\n",
    "prob2=0\n",
    "for i in range(11):\n",
    "    posit_jia=0\n",
    "    for j in range(i+1):\n",
    "        posit_jia+=comb(11,j)*math.pow(0.5,11)\n",
    "    prob+=comb(10,i)*math.pow(0.5,10)*(1-posit_jia)\n",
    "    prob2+=comb(10,i)*comb(11,i)*math.pow(0.5,21)\n",
    "print(\"甲>乙 probability \", prob)\n",
    "print(\"甲=乙 probability \", prob2)"
   ]
  },
  {
   "cell_type": "code",
   "execution_count": 20,
   "metadata": {},
   "outputs": [],
   "source": [
    "def MontyHall(d_select,d_change):\n",
    "    d_car=random.randint(1,3)\n",
    "    if d_select==d_car and d_change==0:\n",
    "        return 1\n",
    "    elif d_select==d_car and d_change==1:\n",
    "        return 0\n",
    "    elif d_select!=d_car and d_change==0:\n",
    "        return 0\n",
    "    elif d_select!=d_car and d_change==1:\n",
    "        return 1"
   ]
  },
  {
   "cell_type": "code",
   "execution_count": 24,
   "metadata": {},
   "outputs": [],
   "source": [
    "def n_simu(n):\n",
    "    win_nonchange=0\n",
    "    win_change=0\n",
    "    for i in range(n):\n",
    "        d_select=random.randint(1,3)\n",
    "        win_nonchange+=MontyHall(d_select,0)\n",
    "        win_change+=MontyHall(d_select,1)\n",
    "    print(\"改变选择，赢得概率是{:.2%}\".format(win_change/n))\n",
    "    print(\"不改变选择，赢得概率是{:.2%}\".format(win_nonchange/n))"
   ]
  },
  {
   "cell_type": "code",
   "execution_count": 25,
   "metadata": {},
   "outputs": [
    {
     "name": "stdout",
     "output_type": "stream",
     "text": [
      "不改变选择，赢得概率是33.48%\n",
      "改变选择，赢得概率是66.68%\n"
     ]
    }
   ],
   "source": [
    "n_simu(100000)"
   ]
  },
  {
   "cell_type": "code",
   "execution_count": 16,
   "metadata": {},
   "outputs": [],
   "source": [
    "import math\n",
    "import numpy as np\n",
    "import matplotlib.pyplot as plt\n",
    "from scipy.special import comb, perm"
   ]
  },
  {
   "cell_type": "code",
   "execution_count": 17,
   "metadata": {},
   "outputs": [],
   "source": [
    "# 二项分布\n",
    "def generate_yb(x,n,p):\n",
    "    return [comb(n,i)*math.pow(p,i)*math.pow(1-p,n-i) for i in x]"
   ]
  },
  {
   "cell_type": "code",
   "execution_count": 18,
   "metadata": {},
   "outputs": [],
   "source": [
    "# 泊松分布\n",
    "def generate_yp(x,lam):\n",
    "    return [math.pow(lam,k)*math.exp(-lam)/perm(k,k) for k in x]"
   ]
  },
  {
   "cell_type": "code",
   "execution_count": 87,
   "metadata": {},
   "outputs": [],
   "source": [
    "def plot_distribution(xlim,n,p):\n",
    "    x=np.arange(xlim+1)\n",
    "    yb=generate_yb(x,n,p)\n",
    "    plt.plot(x,yb,label=\"binomial p={0:.1f}\".format(p))\n",
    "    yp=generate_yp(x,n*p)\n",
    "    plt.plot(x,yp,label=\"Poisson λ={0:.0f}\".format(n*p))\n",
    "    plt.legend()"
   ]
  },
  {
   "cell_type": "code",
   "execution_count": 88,
   "metadata": {},
   "outputs": [
    {
     "data": {
      "image/png": "[encoded data removed]",
      "text/plain": [
       "<Figure size 432x288 with 1 Axes>"
      ]
     },
     "metadata": {
      "needs_background": "light"
     },
     "output_type": "display_data"
    }
   ],
   "source": [
    "for p in range(1,4):\n",
    "    plot_distribution(100,100,0.1*p)\n",
    "plt.show()"
   ]
  },
  {
   "cell_type": "code",
   "execution_count": 95,
   "metadata": {},
   "outputs": [],
   "source": [
    "# 分赌本\n",
    "def bookie(n,win1,win2):\n",
    "    for i in range(2*n-win1-win2-1):\n",
    "        d=random.randint(1,2)\n",
    "        if d==1:\n",
    "            win1+=1\n",
    "        else:\n",
    "            win2+=1\n",
    "        if win1==n:\n",
    "            return 1\n",
    "        if win2==n:\n",
    "            return 2"
   ]
  },
  {
   "cell_type": "code",
   "execution_count": 100,
   "metadata": {},
   "outputs": [
    {
     "name": "stdout",
     "output_type": "stream",
     "text": [
      "0.8065\n",
      "0.7142857142857143\n"
     ]
    }
   ],
   "source": [
    "n=10000\n",
    "win=0\n",
    "for i in range(n):\n",
    "    if bookie(10,5,2)==1:\n",
    "        win+=1\n",
    "print(win/n)"
   ]
  },
  {
   "cell_type": "code",
   "execution_count": null,
   "metadata": {},
   "outputs": [],
   "source": []
  }
 ],
 "metadata": {
  "kernelspec": {
   "display_name": "Python 3",
   "language": "python",
   "name": "python3"
  },
  "language_info": {
   "codemirror_mode": {
    "name": "ipython",
    "version": 3
   },
   "file_extension": ".py",
   "mimetype": "text/x-python",
   "name": "python",
   "nbconvert_exporter": "python",
   "pygments_lexer": "ipython3",
   "version": "3.7.1"
  }
 },
 "nbformat": 4,
 "nbformat_minor": 2
}
