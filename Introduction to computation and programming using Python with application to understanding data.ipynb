{
 "cells": [
  {
   "cell_type": "markdown",
   "metadata": {},
   "source": [
    "Book by John V. Guttag"
   ]
  },
  {
   "cell_type": "code",
   "execution_count": 6,
   "metadata": {},
   "outputs": [
    {
     "name": "stdout",
     "output_type": "stream",
     "text": [
      "integer9\n",
      "square: 81\n",
      "integer0\n",
      "square: 0\n",
      "integer-7\n",
      "square: 49\n",
      "integerq\n",
      "q is not an integer\n",
      "quitting\n"
     ]
    }
   ],
   "source": [
    "while True:\n",
    "    val=input(\"integer\")\n",
    "    try:\n",
    "        val=int(val)\n",
    "        print(\"square:\",val**2)\n",
    "#         break\n",
    "    except:\n",
    "        print(val,\"is not an integer\")\n",
    "    if val==\"q\":\n",
    "        print(\"quitting\")\n",
    "        break"
   ]
  },
  {
   "cell_type": "code",
   "execution_count": 1,
   "metadata": {},
   "outputs": [],
   "source": [
    "import random"
   ]
  },
  {
   "cell_type": "code",
   "execution_count": 2,
   "metadata": {},
   "outputs": [
    {
     "data": {
      "text/plain": [
       "0.34852196312783623"
      ]
     },
     "execution_count": 2,
     "metadata": {},
     "output_type": "execute_result"
    }
   ],
   "source": [
    "random.random()"
   ]
  },
  {
   "cell_type": "code",
   "execution_count": 4,
   "metadata": {},
   "outputs": [
    {
     "data": {
      "text/plain": [
       "0.1456692551041303"
      ]
     },
     "execution_count": 4,
     "metadata": {},
     "output_type": "execute_result"
    }
   ],
   "source": [
    "random.random()"
   ]
  },
  {
   "cell_type": "code",
   "execution_count": 6,
   "metadata": {},
   "outputs": [],
   "source": [
    "random.seed(100)"
   ]
  },
  {
   "cell_type": "code",
   "execution_count": 7,
   "metadata": {},
   "outputs": [
    {
     "data": {
      "text/plain": [
       "0.1456692551041303"
      ]
     },
     "execution_count": 7,
     "metadata": {},
     "output_type": "execute_result"
    }
   ],
   "source": [
    "random.random()"
   ]
  },
  {
   "cell_type": "code",
   "execution_count": 1,
   "metadata": {},
   "outputs": [],
   "source": [
    "import pylab,random\n",
    "def flip_plot(min_exp,max_exp):\n",
    "    diffs,x_axis=[],[]\n",
    "    for exp in range(min_exp,max_exp):\n",
    "        x_axis.append(2**exp)\n",
    "    for num_flips in x_axis:\n",
    "        num_heads=0\n",
    "        for n in range(num_flips):\n",
    "            if random.choice((\"T\",\"H\"))==\"H\":\n",
    "                num_heads+=1\n",
    "            num_tails=num_flips-num_heads\n",
    "        try:\n",
    "            diffs.append(abs(num_heads-num_tails))\n",
    "        except ZeroDivisionError:\n",
    "            continue\n",
    "#     print(x_axis,diffs)\n",
    "    pylab.plot(x_axis,diffs,\"ko\")\n",
    "    pylab.semilogx()\n",
    "    pylab.semilogy()\n",
    "    "
   ]
  },
  {
   "cell_type": "code",
   "execution_count": 2,
   "metadata": {},
   "outputs": [
    {
     "data": {
      "image/png": "[encoded data removed]",
      "text/plain": [
       "<Figure size 432x288 with 1 Axes>"
      ]
     },
     "metadata": {
      "needs_background": "light"
     },
     "output_type": "display_data"
    }
   ],
   "source": [
    "random.seed(0)\n",
    "flip_plot(1,20)"
   ]
  },
  {
   "cell_type": "code",
   "execution_count": 7,
   "metadata": {},
   "outputs": [],
   "source": [
    "import random,pylab"
   ]
  },
  {
   "cell_type": "code",
   "execution_count": 11,
   "metadata": {},
   "outputs": [],
   "source": [
    "def play_series(num_games,team_prob):\n",
    "    num_won=0\n",
    "    for game in range(num_games):\n",
    "        if random.random()<=team_prob:\n",
    "            num_won+=1\n",
    "    return (num_won>num_games//2)\n",
    "\n",
    "def frac_won(team_prob,num_series,series_len):\n",
    "    won=0\n",
    "    for series in range(num_series):\n",
    "        if play_series(series_len,team_prob):\n",
    "            won+=1\n",
    "    return won/float(num_series)\n",
    "\n",
    "def sim_series(num_series):\n",
    "    prob=0.5\n",
    "    fracs_won,probs=[],[]\n",
    "    while prob<=1:\n",
    "        fracs_won.append(frac_won(prob,num_series,7))\n",
    "        probs.append(prob)\n",
    "        prob+=0.01\n",
    "    pylab.axhline(0.95)\n",
    "    pylab.plot(probs,fracs_won,'k',linewidth=5)\n",
    "    print(fracs_won)\n",
    "    pylab.xlabel(\"probability of wining a game\")\n",
    "    pylab.ylabel(\"probability of wining a series\")\n",
    "    pylab.title(str(num_series)+\" seven-game series\")"
   ]
  },
  {
   "cell_type": "code",
   "execution_count": 12,
   "metadata": {},
   "outputs": [
    {
     "name": "stdout",
     "output_type": "stream",
     "text": [
      "[0.49, 0.521, 0.558, 0.572, 0.567, 0.598, 0.621, 0.646, 0.667, 0.702, 0.729, 0.726, 0.773, 0.751, 0.799, 0.794, 0.818, 0.848, 0.856, 0.847, 0.87, 0.878, 0.892, 0.901, 0.911, 0.923, 0.942, 0.932, 0.957, 0.963, 0.97, 0.973, 0.978, 0.98, 0.984, 0.992, 0.992, 0.987, 0.993, 0.998, 0.996, 0.999, 1.0, 0.999, 0.998, 1.0, 1.0, 1.0, 1.0, 1.0]\n"
     ]
    },
    {
     "data": {
      "image/png": "[encoded data removed]",
      "text/plain": [
       "<Figure size 432x288 with 1 Axes>"
      ]
     },
     "metadata": {
      "needs_background": "light"
     },
     "output_type": "display_data"
    }
   ],
   "source": [
    "sim_series(1000)"
   ]
  },
  {
   "cell_type": "code",
   "execution_count": 13,
   "metadata": {},
   "outputs": [],
   "source": [
    "import numpy as np\n",
    "import pylab,math,random"
   ]
  },
  {
   "cell_type": "code",
   "execution_count": 6,
   "metadata": {},
   "outputs": [],
   "source": [
    "x=[i for i in np.arange(0.5,1,0.01)]\n",
    "y=[math.pow(xi,4)*(10*math.pow((1-xi),2)+15*math.pow((1-xi),3)+4*(1-xi)+1) for xi in x]"
   ]
  },
  {
   "cell_type": "code",
   "execution_count": 7,
   "metadata": {},
   "outputs": [
    {
     "data": {
      "text/plain": [
       "[<matplotlib.lines.Line2D at 0x119080b70>]"
      ]
     },
     "execution_count": 7,
     "metadata": {},
     "output_type": "execute_result"
    },
    {
     "data": {
      "image/png": "[encoded data removed]",
      "text/plain": [
       "<Figure size 432x288 with 1 Axes>"
      ]
     },
     "metadata": {
      "needs_background": "light"
     },
     "output_type": "display_data"
    }
   ],
   "source": [
    "pylab.plot(x,y,\"k\",linewidth=3)"
   ]
  },
  {
   "cell_type": "code",
   "execution_count": 9,
   "metadata": {},
   "outputs": [
    {
     "data": {
      "text/plain": [
       "2.9166666666666665"
      ]
     },
     "execution_count": 9,
     "metadata": {},
     "output_type": "execute_result"
    }
   ],
   "source": [
    "import numpy as np\n",
    "np.var([0,1,2,3,4,5])"
   ]
  },
  {
   "cell_type": "code",
   "execution_count": 18,
   "metadata": {},
   "outputs": [
    {
     "name": "stdout",
     "output_type": "stream",
     "text": [
      "*****mean 2.4861 *****variance 2.0869\n",
      "/////mean 2.4992 /////variance 0.0222\n"
     ]
    },
    {
     "data": {
      "text/plain": [
       "<matplotlib.legend.Legend at 0x11a486198>"
      ]
     },
     "execution_count": 18,
     "metadata": {},
     "output_type": "execute_result"
    },
    {
     "data": {
      "image/png": "[encoded data removed]",
      "text/plain": [
       "<Figure size 432x288 with 1 Axes>"
      ]
     },
     "metadata": {
      "needs_background": "light"
     },
     "output_type": "display_data"
    }
   ],
   "source": [
    "def plot_means(num_dice_per_trial,num_dice_thrown,num_bins,legend,color,style):\n",
    "    means=[]\n",
    "    num_trials=num_dice_thrown//num_dice_per_trial\n",
    "    for i in range(num_trials):\n",
    "        vals=0\n",
    "        for j in range(num_dice_per_trial):\n",
    "            vals+=5*random.random()\n",
    "        means.append(vals/num_dice_per_trial)\n",
    "    pylab.hist(means,num_bins,color=color,label=legend,weights=pylab.array(len(means)*[1])/len(means),hatch=style)\n",
    "    return sum(means)/len(means),np.var(means)\n",
    "\n",
    "mean,vari=plot_means(1,10000,11,\"1 die\",\"w\",\"*\")\n",
    "print(\"*****mean\",round(mean,4),\"*****variance\",round(vari,4))\n",
    "mean,vari=plot_means(100,10000,11,\"100 die\",\"w\",\"//\")\n",
    "print(\"/////mean\",round(mean,4),\"/////variance\",round(vari,4))\n",
    "pylab.xlabel(\"value\")\n",
    "pylab.ylabel(\"probability\")\n",
    "pylab.legend()"
   ]
  },
  {
   "cell_type": "markdown",
   "metadata": {},
   "source": [
    "## T distribution"
   ]
  },
  {
   "cell_type": "code",
   "execution_count": 28,
   "metadata": {},
   "outputs": [
    {
     "data": {
      "text/plain": [
       "Text(0, 0.5, 'Probability')"
      ]
     },
     "execution_count": 28,
     "metadata": {},
     "output_type": "execute_result"
    },
    {
     "data": {
      "image/png": "[encoded data removed]",
      "text/plain": [
       "<Figure size 432x288 with 1 Axes>"
      ]
     },
     "metadata": {
      "needs_background": "light"
     },
     "output_type": "display_data"
    }
   ],
   "source": [
    "import scipy\n",
    "degree=198\n",
    "td=[]\n",
    "num_bins=1000\n",
    "for i in range(1000000):\n",
    "    td.append(scipy.random.standard_t(degree))\n",
    "pylab.hist(td,bins=num_bins,weights=pylab.array(len(td)*[1.0])/len(td))\n",
    "pylab.title(\"T-distribution with {} degrees of Freedom\".format(degree))\n",
    "pylab.xlabel(\"T-statistic\")\n",
    "pylab.ylabel(\"Probability\")"
   ]
  },
  {
   "cell_type": "code",
   "execution_count": 3,
   "metadata": {},
   "outputs": [
    {
     "name": "stdout",
     "output_type": "stream",
     "text": [
      "prior_a*** 0.3333333333333333 multiplied by  1.177570093457944\n",
      "0.39252336448598135\n"
     ]
    }
   ],
   "source": [
    "def calc_bayes(prior_a,prob_b_if_a,prob_b):\n",
    "    return prior_a*prob_b_if_a/prob_b\n",
    "\n",
    "p_a=1/3\n",
    "p6_if_a=1/5\n",
    "p_6=(1/5+1/6+1/7)/3\n",
    "\n",
    "post_a=calc_bayes(p_a,p6_if_a,p_6)\n",
    "print(post_a)"
   ]
  },
  {
   "cell_type": "code",
   "execution_count": 4,
   "metadata": {},
   "outputs": [
    {
     "name": "stdout",
     "output_type": "stream",
     "text": [
      "after  0  rolls. Probability of a= 0.3925\n",
      "prior_a*** 0.39252336448598135 multiplied by  1.177570093457944\n",
      "after  10  rolls. Probability of a= 0.4622\n",
      "prior_a*** 0.4622237750021837 multiplied by  1.177570093457944\n",
      "after  20  rolls. Probability of a= 0.5443\n",
      "prior_a*** 0.5443008939278052 multiplied by  1.177570093457944\n",
      "after  30  rolls. Probability of a= 0.641\n",
      "prior_a*** 0.6409524545318082 multiplied by  1.177570093457944\n",
      "after  40  rolls. Probability of a= 0.7548\n",
      "prior_a*** 0.7547664417851201 multiplied by  1.177570093457944\n",
      "after  50  rolls. Probability of a= 0.8888\n",
      "prior_a*** 0.8887903893918239 multiplied by  1.177570093457944\n",
      "after  60  rolls. Probability of a= 1.0466\n",
      "prior_a*** 1.0466129819006527 multiplied by  1.177570093457944\n",
      "after  70  rolls. Probability of a= 1.2325\n",
      "prior_a*** 1.2324601469110492 multiplied by  1.177570093457944\n",
      "after  80  rolls. Probability of a= 1.4513\n",
      "prior_a*** 1.4513082103812358 multiplied by  1.177570093457944\n",
      "after  90  rolls. Probability of a= 1.709\n",
      "prior_a*** 1.7090171449349134 multiplied by  1.177570093457944\n",
      "after  100  rolls. Probability of a= 2.0125\n",
      "prior_a*** 2.012487479082235 multiplied by  1.177570093457944\n"
     ]
    }
   ],
   "source": [
    "import random\n",
    "num_rolls=100\n",
    "\n",
    "for i in range(num_rolls+1):\n",
    "    if i%(num_rolls//10)==0:\n",
    "        print(\"after \",i,\" rolls. Probability of a=\",round(post_a,4))\n",
    "        post_a=calc_bayes(post_a,p6_if_a,p_6)\n",
    "#     is6=random.random()>=42/107\n",
    "#     if is6:\n",
    "#         post_a=calc_bayes(post_a,p6_if_a,p_6)\n",
    "#     else:\n",
    "#         post_a=calc_bayes(post_a,1-p6_if_a,1-p_6)"
   ]
  },
  {
   "cell_type": "code",
   "execution_count": null,
   "metadata": {},
   "outputs": [],
   "source": []
  },
  {
   "cell_type": "code",
   "execution_count": null,
   "metadata": {},
   "outputs": [],
   "source": []
  }
 ],
 "metadata": {
  "kernelspec": {
   "display_name": "Python 3",
   "language": "python",
   "name": "python3"
  },
  "language_info": {
   "codemirror_mode": {
    "name": "ipython",
    "version": 3
   },
   "file_extension": ".py",
   "mimetype": "text/x-python",
   "name": "python",
   "nbconvert_exporter": "python",
   "pygments_lexer": "ipython3",
   "version": "3.7.1"
  }
 },
 "nbformat": 4,
 "nbformat_minor": 2
}
